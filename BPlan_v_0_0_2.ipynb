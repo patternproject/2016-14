{
  "nbformat": 4,
  "nbformat_minor": 0,
  "metadata": {
    "colab": {
      "name": "BPlan_v_0_0_2.ipynb",
      "provenance": [],
      "authorship_tag": "ABX9TyMI2ZD2ANUHF+jjct+4Dfy7",
      "include_colab_link": true
    },
    "kernelspec": {
      "name": "ir",
      "display_name": "R"
    },
    "language_info": {
      "name": "R"
    }
  },
  "cells": [
    {
      "cell_type": "markdown",
      "metadata": {
        "id": "view-in-github",
        "colab_type": "text"
      },
      "source": [
        "<a href=\"https://colab.research.google.com/github/patternproject/2016-14/blob/master/BPlan_v_0_0_2.ipynb\" target=\"_parent\"><img src=\"https://colab.research.google.com/assets/colab-badge.svg\" alt=\"Open In Colab\"/></a>"
      ]
    },
    {
      "cell_type": "code",
      "execution_count": 22,
      "metadata": {
        "id": "q-i8z0ZP0MW4"
      },
      "outputs": [],
      "source": [
        "library(tidyverse)"
      ]
    },
    {
      "cell_type": "code",
      "source": [
        "library(lubridate)"
      ],
      "metadata": {
        "id": "gxvtT198186G"
      },
      "execution_count": 23,
      "outputs": []
    },
    {
      "cell_type": "code",
      "source": [
        "library(readxl)"
      ],
      "metadata": {
        "id": "3V-2g9PN2dJh"
      },
      "execution_count": 24,
      "outputs": []
    },
    {
      "cell_type": "code",
      "source": [
        "df_agg = read_excel('/content/POS Planning - v 2 9 6 - Data Agg - 2.xlsx', col_types = c(\"numeric\", \"numeric\", \"date\",\"numeric\",\"numeric\",\"numeric\"))"
      ],
      "metadata": {
        "id": "jAHoUdKJ2nx1"
      },
      "execution_count": 32,
      "outputs": []
    },
    {
      "cell_type": "code",
      "source": [
        "head(df_agg)"
      ],
      "metadata": {
        "colab": {
          "base_uri": "https://localhost:8080/",
          "height": 286
        },
        "id": "Z5gpNnjD2pDX",
        "outputId": "3b7522da-00bc-4561-8080-fbe7fe005d89"
      },
      "execution_count": 33,
      "outputs": [
        {
          "output_type": "display_data",
          "data": {
            "text/html": [
              "<table class=\"dataframe\">\n",
              "<caption>A tibble: 6 × 6</caption>\n",
              "<thead>\n",
              "\t<tr><th scope=col>Year</th><th scope=col>Month</th><th scope=col>Date</th><th scope=col>AggRevenue</th><th scope=col>AggCost</th><th scope=col>AggPL</th></tr>\n",
              "\t<tr><th scope=col>&lt;dbl&gt;</th><th scope=col>&lt;dbl&gt;</th><th scope=col>&lt;dttm&gt;</th><th scope=col>&lt;dbl&gt;</th><th scope=col>&lt;dbl&gt;</th><th scope=col>&lt;dbl&gt;</th></tr>\n",
              "</thead>\n",
              "<tbody>\n",
              "\t<tr><td>2022</td><td>1</td><td>2022-01-31</td><td> 21000</td><td> 1536236</td><td>-1515236</td></tr>\n",
              "\t<tr><td>2022</td><td>2</td><td>2022-02-28</td><td> 49500</td><td> 3157765</td><td>-3108265</td></tr>\n",
              "\t<tr><td>2022</td><td>3</td><td>2022-03-31</td><td> 87000</td><td> 4754647</td><td>-4667647</td></tr>\n",
              "\t<tr><td>2022</td><td>4</td><td>2022-04-30</td><td>150000</td><td> 6589899</td><td>-6439899</td></tr>\n",
              "\t<tr><td>2022</td><td>5</td><td>2022-05-31</td><td>236500</td><td> 8245738</td><td>-8009238</td></tr>\n",
              "\t<tr><td>2022</td><td>6</td><td>2022-06-30</td><td>364500</td><td>10198317</td><td>-9833817</td></tr>\n",
              "</tbody>\n",
              "</table>\n"
            ],
            "text/markdown": "\nA tibble: 6 × 6\n\n| Year &lt;dbl&gt; | Month &lt;dbl&gt; | Date &lt;dttm&gt; | AggRevenue &lt;dbl&gt; | AggCost &lt;dbl&gt; | AggPL &lt;dbl&gt; |\n|---|---|---|---|---|---|\n| 2022 | 1 | 2022-01-31 |  21000 |  1536236 | -1515236 |\n| 2022 | 2 | 2022-02-28 |  49500 |  3157765 | -3108265 |\n| 2022 | 3 | 2022-03-31 |  87000 |  4754647 | -4667647 |\n| 2022 | 4 | 2022-04-30 | 150000 |  6589899 | -6439899 |\n| 2022 | 5 | 2022-05-31 | 236500 |  8245738 | -8009238 |\n| 2022 | 6 | 2022-06-30 | 364500 | 10198317 | -9833817 |\n\n",
            "text/latex": "A tibble: 6 × 6\n\\begin{tabular}{llllll}\n Year & Month & Date & AggRevenue & AggCost & AggPL\\\\\n <dbl> & <dbl> & <dttm> & <dbl> & <dbl> & <dbl>\\\\\n\\hline\n\t 2022 & 1 & 2022-01-31 &  21000 &  1536236 & -1515236\\\\\n\t 2022 & 2 & 2022-02-28 &  49500 &  3157765 & -3108265\\\\\n\t 2022 & 3 & 2022-03-31 &  87000 &  4754647 & -4667647\\\\\n\t 2022 & 4 & 2022-04-30 & 150000 &  6589899 & -6439899\\\\\n\t 2022 & 5 & 2022-05-31 & 236500 &  8245738 & -8009238\\\\\n\t 2022 & 6 & 2022-06-30 & 364500 & 10198317 & -9833817\\\\\n\\end{tabular}\n",
            "text/plain": [
              "  Year Month Date       AggRevenue AggCost  AggPL   \n",
              "1 2022 1     2022-01-31  21000      1536236 -1515236\n",
              "2 2022 2     2022-02-28  49500      3157765 -3108265\n",
              "3 2022 3     2022-03-31  87000      4754647 -4667647\n",
              "4 2022 4     2022-04-30 150000      6589899 -6439899\n",
              "5 2022 5     2022-05-31 236500      8245738 -8009238\n",
              "6 2022 6     2022-06-30 364500     10198317 -9833817"
            ]
          },
          "metadata": {}
        }
      ]
    },
    {
      "cell_type": "code",
      "source": [
        "colnames(df_agg)"
      ],
      "metadata": {
        "colab": {
          "base_uri": "https://localhost:8080/",
          "height": 35
        },
        "id": "Aqi0BITA3MSQ",
        "outputId": "b9f15775-1a82-4a75-8bf6-1cf0888d5019"
      },
      "execution_count": 34,
      "outputs": [
        {
          "output_type": "display_data",
          "data": {
            "text/html": [
              "<style>\n",
              ".list-inline {list-style: none; margin:0; padding: 0}\n",
              ".list-inline>li {display: inline-block}\n",
              ".list-inline>li:not(:last-child)::after {content: \"\\00b7\"; padding: 0 .5ex}\n",
              "</style>\n",
              "<ol class=list-inline><li>'Year'</li><li>'Month'</li><li>'Date'</li><li>'AggRevenue'</li><li>'AggCost'</li><li>'AggPL'</li></ol>\n"
            ],
            "text/markdown": "1. 'Year'\n2. 'Month'\n3. 'Date'\n4. 'AggRevenue'\n5. 'AggCost'\n6. 'AggPL'\n\n\n",
            "text/latex": "\\begin{enumerate*}\n\\item 'Year'\n\\item 'Month'\n\\item 'Date'\n\\item 'AggRevenue'\n\\item 'AggCost'\n\\item 'AggPL'\n\\end{enumerate*}\n",
            "text/plain": [
              "[1] \"Year\"       \"Month\"      \"Date\"       \"AggRevenue\" \"AggCost\"   \n",
              "[6] \"AggPL\"     "
            ]
          },
          "metadata": {}
        }
      ]
    },
    {
      "cell_type": "code",
      "source": [
        "df_agg <- df_agg %>%\n",
        "select (-Year,-Month,-Date)"
      ],
      "metadata": {
        "id": "KfbpPC4-Nd-p"
      },
      "execution_count": 35,
      "outputs": []
    },
    {
      "cell_type": "code",
      "source": [
        "head(df_agg)"
      ],
      "metadata": {
        "colab": {
          "base_uri": "https://localhost:8080/",
          "height": 286
        },
        "id": "OS-hx5VYNi03",
        "outputId": "6b3dcb67-1328-41e2-ea89-1c9ad479c010"
      },
      "execution_count": 36,
      "outputs": [
        {
          "output_type": "display_data",
          "data": {
            "text/html": [
              "<table class=\"dataframe\">\n",
              "<caption>A tibble: 6 × 3</caption>\n",
              "<thead>\n",
              "\t<tr><th scope=col>AggRevenue</th><th scope=col>AggCost</th><th scope=col>AggPL</th></tr>\n",
              "\t<tr><th scope=col>&lt;dbl&gt;</th><th scope=col>&lt;dbl&gt;</th><th scope=col>&lt;dbl&gt;</th></tr>\n",
              "</thead>\n",
              "<tbody>\n",
              "\t<tr><td> 21000</td><td> 1536236</td><td>-1515236</td></tr>\n",
              "\t<tr><td> 49500</td><td> 3157765</td><td>-3108265</td></tr>\n",
              "\t<tr><td> 87000</td><td> 4754647</td><td>-4667647</td></tr>\n",
              "\t<tr><td>150000</td><td> 6589899</td><td>-6439899</td></tr>\n",
              "\t<tr><td>236500</td><td> 8245738</td><td>-8009238</td></tr>\n",
              "\t<tr><td>364500</td><td>10198317</td><td>-9833817</td></tr>\n",
              "</tbody>\n",
              "</table>\n"
            ],
            "text/markdown": "\nA tibble: 6 × 3\n\n| AggRevenue &lt;dbl&gt; | AggCost &lt;dbl&gt; | AggPL &lt;dbl&gt; |\n|---|---|---|\n|  21000 |  1536236 | -1515236 |\n|  49500 |  3157765 | -3108265 |\n|  87000 |  4754647 | -4667647 |\n| 150000 |  6589899 | -6439899 |\n| 236500 |  8245738 | -8009238 |\n| 364500 | 10198317 | -9833817 |\n\n",
            "text/latex": "A tibble: 6 × 3\n\\begin{tabular}{lll}\n AggRevenue & AggCost & AggPL\\\\\n <dbl> & <dbl> & <dbl>\\\\\n\\hline\n\t  21000 &  1536236 & -1515236\\\\\n\t  49500 &  3157765 & -3108265\\\\\n\t  87000 &  4754647 & -4667647\\\\\n\t 150000 &  6589899 & -6439899\\\\\n\t 236500 &  8245738 & -8009238\\\\\n\t 364500 & 10198317 & -9833817\\\\\n\\end{tabular}\n",
            "text/plain": [
              "  AggRevenue AggCost  AggPL   \n",
              "1  21000      1536236 -1515236\n",
              "2  49500      3157765 -3108265\n",
              "3  87000      4754647 -4667647\n",
              "4 150000      6589899 -6439899\n",
              "5 236500      8245738 -8009238\n",
              "6 364500     10198317 -9833817"
            ]
          },
          "metadata": {}
        }
      ]
    },
    {
      "cell_type": "code",
      "source": [
        "seq(ymd(\"2022-1-1\"), ymd(\"2024-12-1\"), by = \"months\")"
      ],
      "metadata": {
        "colab": {
          "base_uri": "https://localhost:8080/",
          "height": 87
        },
        "id": "QbQIEXTw4SaJ",
        "outputId": "1fd442ef-cd7c-4552-daff-bd4288443226"
      },
      "execution_count": 37,
      "outputs": [
        {
          "output_type": "display_data",
          "data": {
            "text/html": [
              "<style>\n",
              ".list-inline {list-style: none; margin:0; padding: 0}\n",
              ".list-inline>li {display: inline-block}\n",
              ".list-inline>li:not(:last-child)::after {content: \"\\00b7\"; padding: 0 .5ex}\n",
              "</style>\n",
              "<ol class=list-inline><li><time datetime=\"2022-01-01\">2022-01-01</time></li><li><time datetime=\"2022-02-01\">2022-02-01</time></li><li><time datetime=\"2022-03-01\">2022-03-01</time></li><li><time datetime=\"2022-04-01\">2022-04-01</time></li><li><time datetime=\"2022-05-01\">2022-05-01</time></li><li><time datetime=\"2022-06-01\">2022-06-01</time></li><li><time datetime=\"2022-07-01\">2022-07-01</time></li><li><time datetime=\"2022-08-01\">2022-08-01</time></li><li><time datetime=\"2022-09-01\">2022-09-01</time></li><li><time datetime=\"2022-10-01\">2022-10-01</time></li><li><time datetime=\"2022-11-01\">2022-11-01</time></li><li><time datetime=\"2022-12-01\">2022-12-01</time></li><li><time datetime=\"2023-01-01\">2023-01-01</time></li><li><time datetime=\"2023-02-01\">2023-02-01</time></li><li><time datetime=\"2023-03-01\">2023-03-01</time></li><li><time datetime=\"2023-04-01\">2023-04-01</time></li><li><time datetime=\"2023-05-01\">2023-05-01</time></li><li><time datetime=\"2023-06-01\">2023-06-01</time></li><li><time datetime=\"2023-07-01\">2023-07-01</time></li><li><time datetime=\"2023-08-01\">2023-08-01</time></li><li><time datetime=\"2023-09-01\">2023-09-01</time></li><li><time datetime=\"2023-10-01\">2023-10-01</time></li><li><time datetime=\"2023-11-01\">2023-11-01</time></li><li><time datetime=\"2023-12-01\">2023-12-01</time></li><li><time datetime=\"2024-01-01\">2024-01-01</time></li><li><time datetime=\"2024-02-01\">2024-02-01</time></li><li><time datetime=\"2024-03-01\">2024-03-01</time></li><li><time datetime=\"2024-04-01\">2024-04-01</time></li><li><time datetime=\"2024-05-01\">2024-05-01</time></li><li><time datetime=\"2024-06-01\">2024-06-01</time></li><li><time datetime=\"2024-07-01\">2024-07-01</time></li><li><time datetime=\"2024-08-01\">2024-08-01</time></li><li><time datetime=\"2024-09-01\">2024-09-01</time></li><li><time datetime=\"2024-10-01\">2024-10-01</time></li><li><time datetime=\"2024-11-01\">2024-11-01</time></li><li><time datetime=\"2024-12-01\">2024-12-01</time></li></ol>\n"
            ],
            "text/markdown": "1. 2022-01-01\n2. 2022-02-01\n3. 2022-03-01\n4. 2022-04-01\n5. 2022-05-01\n6. 2022-06-01\n7. 2022-07-01\n8. 2022-08-01\n9. 2022-09-01\n10. 2022-10-01\n11. 2022-11-01\n12. 2022-12-01\n13. 2023-01-01\n14. 2023-02-01\n15. 2023-03-01\n16. 2023-04-01\n17. 2023-05-01\n18. 2023-06-01\n19. 2023-07-01\n20. 2023-08-01\n21. 2023-09-01\n22. 2023-10-01\n23. 2023-11-01\n24. 2023-12-01\n25. 2024-01-01\n26. 2024-02-01\n27. 2024-03-01\n28. 2024-04-01\n29. 2024-05-01\n30. 2024-06-01\n31. 2024-07-01\n32. 2024-08-01\n33. 2024-09-01\n34. 2024-10-01\n35. 2024-11-01\n36. 2024-12-01\n\n\n",
            "text/latex": "\\begin{enumerate*}\n\\item 2022-01-01\n\\item 2022-02-01\n\\item 2022-03-01\n\\item 2022-04-01\n\\item 2022-05-01\n\\item 2022-06-01\n\\item 2022-07-01\n\\item 2022-08-01\n\\item 2022-09-01\n\\item 2022-10-01\n\\item 2022-11-01\n\\item 2022-12-01\n\\item 2023-01-01\n\\item 2023-02-01\n\\item 2023-03-01\n\\item 2023-04-01\n\\item 2023-05-01\n\\item 2023-06-01\n\\item 2023-07-01\n\\item 2023-08-01\n\\item 2023-09-01\n\\item 2023-10-01\n\\item 2023-11-01\n\\item 2023-12-01\n\\item 2024-01-01\n\\item 2024-02-01\n\\item 2024-03-01\n\\item 2024-04-01\n\\item 2024-05-01\n\\item 2024-06-01\n\\item 2024-07-01\n\\item 2024-08-01\n\\item 2024-09-01\n\\item 2024-10-01\n\\item 2024-11-01\n\\item 2024-12-01\n\\end{enumerate*}\n",
            "text/plain": [
              " [1] \"2022-01-01\" \"2022-02-01\" \"2022-03-01\" \"2022-04-01\" \"2022-05-01\"\n",
              " [6] \"2022-06-01\" \"2022-07-01\" \"2022-08-01\" \"2022-09-01\" \"2022-10-01\"\n",
              "[11] \"2022-11-01\" \"2022-12-01\" \"2023-01-01\" \"2023-02-01\" \"2023-03-01\"\n",
              "[16] \"2023-04-01\" \"2023-05-01\" \"2023-06-01\" \"2023-07-01\" \"2023-08-01\"\n",
              "[21] \"2023-09-01\" \"2023-10-01\" \"2023-11-01\" \"2023-12-01\" \"2024-01-01\"\n",
              "[26] \"2024-02-01\" \"2024-03-01\" \"2024-04-01\" \"2024-05-01\" \"2024-06-01\"\n",
              "[31] \"2024-07-01\" \"2024-08-01\" \"2024-09-01\" \"2024-10-01\" \"2024-11-01\"\n",
              "[36] \"2024-12-01\""
            ]
          },
          "metadata": {}
        }
      ]
    },
    {
      "cell_type": "code",
      "source": [
        "df_agg <- df_agg %>%\n",
        "mutate(new_date = seq(ymd(\"2022-1-1\"), ymd(\"2024-12-1\"), by = \"months\"))"
      ],
      "metadata": {
        "id": "VuZamq-9MWaP"
      },
      "execution_count": 38,
      "outputs": []
    },
    {
      "cell_type": "code",
      "source": [
        "head(df_agg)"
      ],
      "metadata": {
        "colab": {
          "base_uri": "https://localhost:8080/",
          "height": 286
        },
        "id": "37zJkVjKNYE7",
        "outputId": "46c6ebd2-1c84-4812-9699-adc798d13914"
      },
      "execution_count": 39,
      "outputs": [
        {
          "output_type": "display_data",
          "data": {
            "text/html": [
              "<table class=\"dataframe\">\n",
              "<caption>A tibble: 6 × 4</caption>\n",
              "<thead>\n",
              "\t<tr><th scope=col>AggRevenue</th><th scope=col>AggCost</th><th scope=col>AggPL</th><th scope=col>new_date</th></tr>\n",
              "\t<tr><th scope=col>&lt;dbl&gt;</th><th scope=col>&lt;dbl&gt;</th><th scope=col>&lt;dbl&gt;</th><th scope=col>&lt;date&gt;</th></tr>\n",
              "</thead>\n",
              "<tbody>\n",
              "\t<tr><td> 21000</td><td> 1536236</td><td>-1515236</td><td>2022-01-01</td></tr>\n",
              "\t<tr><td> 49500</td><td> 3157765</td><td>-3108265</td><td>2022-02-01</td></tr>\n",
              "\t<tr><td> 87000</td><td> 4754647</td><td>-4667647</td><td>2022-03-01</td></tr>\n",
              "\t<tr><td>150000</td><td> 6589899</td><td>-6439899</td><td>2022-04-01</td></tr>\n",
              "\t<tr><td>236500</td><td> 8245738</td><td>-8009238</td><td>2022-05-01</td></tr>\n",
              "\t<tr><td>364500</td><td>10198317</td><td>-9833817</td><td>2022-06-01</td></tr>\n",
              "</tbody>\n",
              "</table>\n"
            ],
            "text/markdown": "\nA tibble: 6 × 4\n\n| AggRevenue &lt;dbl&gt; | AggCost &lt;dbl&gt; | AggPL &lt;dbl&gt; | new_date &lt;date&gt; |\n|---|---|---|---|\n|  21000 |  1536236 | -1515236 | 2022-01-01 |\n|  49500 |  3157765 | -3108265 | 2022-02-01 |\n|  87000 |  4754647 | -4667647 | 2022-03-01 |\n| 150000 |  6589899 | -6439899 | 2022-04-01 |\n| 236500 |  8245738 | -8009238 | 2022-05-01 |\n| 364500 | 10198317 | -9833817 | 2022-06-01 |\n\n",
            "text/latex": "A tibble: 6 × 4\n\\begin{tabular}{llll}\n AggRevenue & AggCost & AggPL & new\\_date\\\\\n <dbl> & <dbl> & <dbl> & <date>\\\\\n\\hline\n\t  21000 &  1536236 & -1515236 & 2022-01-01\\\\\n\t  49500 &  3157765 & -3108265 & 2022-02-01\\\\\n\t  87000 &  4754647 & -4667647 & 2022-03-01\\\\\n\t 150000 &  6589899 & -6439899 & 2022-04-01\\\\\n\t 236500 &  8245738 & -8009238 & 2022-05-01\\\\\n\t 364500 & 10198317 & -9833817 & 2022-06-01\\\\\n\\end{tabular}\n",
            "text/plain": [
              "  AggRevenue AggCost  AggPL    new_date  \n",
              "1  21000      1536236 -1515236 2022-01-01\n",
              "2  49500      3157765 -3108265 2022-02-01\n",
              "3  87000      4754647 -4667647 2022-03-01\n",
              "4 150000      6589899 -6439899 2022-04-01\n",
              "5 236500      8245738 -8009238 2022-05-01\n",
              "6 364500     10198317 -9833817 2022-06-01"
            ]
          },
          "metadata": {}
        }
      ]
    },
    {
      "cell_type": "code",
      "source": [
        "colnames(df_agg)"
      ],
      "metadata": {
        "colab": {
          "base_uri": "https://localhost:8080/",
          "height": 35
        },
        "id": "xMNEnfIPO9bu",
        "outputId": "340781e3-f692-4f0a-d2c4-93941259b573"
      },
      "execution_count": 42,
      "outputs": [
        {
          "output_type": "display_data",
          "data": {
            "text/html": [
              "<style>\n",
              ".list-inline {list-style: none; margin:0; padding: 0}\n",
              ".list-inline>li {display: inline-block}\n",
              ".list-inline>li:not(:last-child)::after {content: \"\\00b7\"; padding: 0 .5ex}\n",
              "</style>\n",
              "<ol class=list-inline><li>'AggRevenue'</li><li>'AggCost'</li><li>'AggPL'</li><li>'new_date'</li></ol>\n"
            ],
            "text/markdown": "1. 'AggRevenue'\n2. 'AggCost'\n3. 'AggPL'\n4. 'new_date'\n\n\n",
            "text/latex": "\\begin{enumerate*}\n\\item 'AggRevenue'\n\\item 'AggCost'\n\\item 'AggPL'\n\\item 'new\\_date'\n\\end{enumerate*}\n",
            "text/plain": [
              "[1] \"AggRevenue\" \"AggCost\"    \"AggPL\"      \"new_date\"  "
            ]
          },
          "metadata": {}
        }
      ]
    },
    {
      "cell_type": "code",
      "source": [
        "str(df_agg)"
      ],
      "metadata": {
        "colab": {
          "base_uri": "https://localhost:8080/"
        },
        "id": "W3meNfrEPXUx",
        "outputId": "4a7ab178-9346-4701-cb8e-5042690f60a0"
      },
      "execution_count": 43,
      "outputs": [
        {
          "output_type": "stream",
          "name": "stdout",
          "text": [
            "tibble [36 × 4] (S3: tbl_df/tbl/data.frame)\n",
            " $ AggRevenue: num [1:36] 21000 49500 87000 150000 236500 ...\n",
            " $ AggCost   : num [1:36] 1536236 3157765 4754647 6589899 8245738 ...\n",
            " $ AggPL     : num [1:36] -1515236 -3108265 -4667647 -6439899 -8009238 ...\n",
            " $ new_date  : Date[1:36], format: \"2022-01-01\" \"2022-02-01\" ...\n"
          ]
        }
      ]
    },
    {
      "cell_type": "code",
      "source": [
        "ggplot(df_agg, aes(x = new_date, y = AggRevenue)) +\n",
        "  geom_line( )"
      ],
      "metadata": {
        "colab": {
          "base_uri": "https://localhost:8080/",
          "height": 437
        },
        "id": "viLLYfS_Msv-",
        "outputId": "657891dd-19d4-40ef-b311-926cb05003de"
      },
      "execution_count": 44,
      "outputs": [
        {
          "output_type": "display_data",
          "data": {
            "text/plain": [
              "plot without title"
            ],
            "image/png": "[encoded data removed]"
          },
          "metadata": {
            "image/png": {
              "width": 420,
              "height": 420
            }
          }
        }
      ]
    }
  ]
}